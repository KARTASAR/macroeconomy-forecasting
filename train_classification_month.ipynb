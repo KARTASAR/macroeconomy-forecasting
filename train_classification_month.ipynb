{
 "cells": [
  {
   "cell_type": "code",
   "execution_count": 1,
   "metadata": {},
   "outputs": [],
   "source": [
    "import pandas as pd\n",
    "import matplotlib.pyplot as plt\n",
    "import catboost\n",
    "import numpy as np\n",
    "from sklearn.model_selection import train_test_split\n",
    "from sklearn.preprocessing import MinMaxScaler\n",
    "from sklearn.linear_model import LinearRegression, LogisticRegression\n",
    "from sklearn import metrics\n",
    "import pickle\n",
    "\n",
    "pd.options.display.max_columns = 100"
   ]
  },
  {
   "cell_type": "code",
   "execution_count": 2,
   "metadata": {},
   "outputs": [],
   "source": [
    "train_month_df = pd.read_excel('data/train.xlsx', sheet_name='Monthly').drop(0)\n",
    "train_quart_df = pd.read_excel('data/train.xlsx', sheet_name='Quarterly').drop(0)\n",
    "\n",
    "train_month_df['month'] = [int(x[-2:]) for x in train_month_df['Unnamed: 0'].tolist()]\n",
    "train_month_df['year'] = [int(x[:4]) for x in train_month_df['Unnamed: 0'].tolist()]\n",
    "\n",
    "train_quart_df['month'] = [int(x[-2:]) for x in train_quart_df['Unnamed: 0'].tolist()]\n",
    "train_quart_df['year'] = [int(x[:4]) for x in train_quart_df['Unnamed: 0'].tolist()]\n",
    "\n",
    "train_month_df['year'] -= train_month_df['year'].min()\n",
    "train_quart_df['year'] -= train_quart_df['year'].min()\n",
    "\n",
    "train_month_df['month_num'] = train_month_df['month'] + train_month_df['year'] * 12\n",
    "train_quart_df['month_num'] = train_quart_df['month'] + train_quart_df['year'] * 12\n",
    "\n",
    "train_month_df.drop('Unnamed: 0', axis=1, inplace=True)\n",
    "train_quart_df.drop('Unnamed: 0', axis=1, inplace=True)"
   ]
  },
  {
   "cell_type": "code",
   "execution_count": 3,
   "metadata": {},
   "outputs": [],
   "source": [
    "from utils import classes"
   ]
  },
  {
   "cell_type": "code",
   "execution_count": 4,
   "metadata": {},
   "outputs": [],
   "source": [
    "for cl in classes:\n",
    "    for x in cl:\n",
    "        train_month_df[x] = (train_month_df[x].values - np.mean(train_month_df[x])) / np.std(train_month_df[x])"
   ]
  },
  {
   "cell_type": "code",
   "execution_count": 5,
   "metadata": {},
   "outputs": [],
   "source": [
    "from utils import make_features_month_clas\n",
    "\n",
    "def get_features(values):\n",
    "    values = np.array(values)\n",
    "    \n",
    "    features, target = [], []\n",
    "\n",
    "    for i in range(len(values)//2, len(values)):\n",
    "        features.append(make_features_month_clas(values[:i]))\n",
    "        target.append(values[i])\n",
    "\n",
    "    return features, target"
   ]
  },
  {
   "cell_type": "code",
   "execution_count": 6,
   "metadata": {},
   "outputs": [],
   "source": [
    "all_features, all_target = [], []\n",
    "\n",
    "for i in range(len(classes)):\n",
    "    for col in classes[i]:\n",
    "        a = train_month_df[col].dropna().tolist()\n",
    "        \n",
    "\n",
    "        features, target = get_features(a)\n",
    "        all_features.append(features)\n",
    "        all_target.append([i for z in features])\n",
    "        \n",
    "all_features = np.concatenate(all_features)\n",
    "all_target = np.concatenate(all_target)"
   ]
  },
  {
   "cell_type": "code",
   "execution_count": 7,
   "metadata": {},
   "outputs": [
    {
     "name": "stdout",
     "output_type": "stream",
     "text": [
      "0:\tlearn: 1.5652010\ttotal: 85.7ms\tremaining: 1m 25s\n",
      "100:\tlearn: 0.6772187\ttotal: 1.08s\tremaining: 9.63s\n",
      "200:\tlearn: 0.5368824\ttotal: 2.09s\tremaining: 8.32s\n",
      "300:\tlearn: 0.4527275\ttotal: 3.18s\tremaining: 7.39s\n",
      "400:\tlearn: 0.3840858\ttotal: 4.16s\tremaining: 6.21s\n",
      "500:\tlearn: 0.3314286\ttotal: 5.2s\tremaining: 5.18s\n",
      "600:\tlearn: 0.2911886\ttotal: 6.25s\tremaining: 4.15s\n",
      "700:\tlearn: 0.2572878\ttotal: 7.24s\tremaining: 3.09s\n",
      "800:\tlearn: 0.2287026\ttotal: 8.27s\tremaining: 2.06s\n",
      "900:\tlearn: 0.2052484\ttotal: 9.22s\tremaining: 1.01s\n",
      "999:\tlearn: 0.1851403\ttotal: 10.2s\tremaining: 0us\n",
      "0:\tlearn: 1.5694807\ttotal: 23.7ms\tremaining: 23.6s\n",
      "100:\tlearn: 0.6722392\ttotal: 1.04s\tremaining: 9.28s\n",
      "200:\tlearn: 0.5287515\ttotal: 2.33s\tremaining: 9.26s\n",
      "300:\tlearn: 0.4485851\ttotal: 3.79s\tremaining: 8.81s\n",
      "400:\tlearn: 0.3842105\ttotal: 5.22s\tremaining: 7.79s\n",
      "500:\tlearn: 0.3330465\ttotal: 6.64s\tremaining: 6.62s\n",
      "600:\tlearn: 0.2929594\ttotal: 8.11s\tremaining: 5.38s\n",
      "700:\tlearn: 0.2578606\ttotal: 9.52s\tremaining: 4.06s\n",
      "800:\tlearn: 0.2281076\ttotal: 11s\tremaining: 2.72s\n",
      "900:\tlearn: 0.2051570\ttotal: 12.6s\tremaining: 1.38s\n",
      "999:\tlearn: 0.1853320\ttotal: 14.2s\tremaining: 0us\n",
      "0:\tlearn: 1.5669540\ttotal: 27.2ms\tremaining: 27.2s\n",
      "100:\tlearn: 0.6870626\ttotal: 1.52s\tremaining: 13.6s\n",
      "200:\tlearn: 0.5360976\ttotal: 2.98s\tremaining: 11.8s\n",
      "300:\tlearn: 0.4547864\ttotal: 4.47s\tremaining: 10.4s\n",
      "400:\tlearn: 0.3883688\ttotal: 5.92s\tremaining: 8.85s\n",
      "500:\tlearn: 0.3354405\ttotal: 7.36s\tremaining: 7.33s\n",
      "600:\tlearn: 0.2934260\ttotal: 8.79s\tremaining: 5.83s\n",
      "700:\tlearn: 0.2583199\ttotal: 10.2s\tremaining: 4.37s\n",
      "800:\tlearn: 0.2304200\ttotal: 11.7s\tremaining: 2.91s\n",
      "900:\tlearn: 0.2074166\ttotal: 13.2s\tremaining: 1.45s\n",
      "999:\tlearn: 0.1889304\ttotal: 14.7s\tremaining: 0us\n",
      "0:\tlearn: 1.5702907\ttotal: 27ms\tremaining: 26.9s\n",
      "100:\tlearn: 0.6806425\ttotal: 1.5s\tremaining: 13.4s\n",
      "200:\tlearn: 0.5395974\ttotal: 2.98s\tremaining: 11.9s\n",
      "300:\tlearn: 0.4544970\ttotal: 4.53s\tremaining: 10.5s\n",
      "400:\tlearn: 0.3906744\ttotal: 6.42s\tremaining: 9.6s\n",
      "500:\tlearn: 0.3345361\ttotal: 7.93s\tremaining: 7.9s\n",
      "600:\tlearn: 0.2923295\ttotal: 9.34s\tremaining: 6.2s\n",
      "700:\tlearn: 0.2578565\ttotal: 10.8s\tremaining: 4.61s\n",
      "800:\tlearn: 0.2300668\ttotal: 12.3s\tremaining: 3.07s\n",
      "900:\tlearn: 0.2043443\ttotal: 13.9s\tremaining: 1.52s\n",
      "999:\tlearn: 0.1851636\ttotal: 15.3s\tremaining: 0us\n",
      "0:\tlearn: 1.5692172\ttotal: 23.6ms\tremaining: 23.6s\n",
      "100:\tlearn: 0.6825512\ttotal: 1.06s\tremaining: 9.48s\n",
      "200:\tlearn: 0.5407903\ttotal: 2.1s\tremaining: 8.35s\n",
      "300:\tlearn: 0.4567906\ttotal: 3.06s\tremaining: 7.12s\n",
      "400:\tlearn: 0.3901374\ttotal: 4.04s\tremaining: 6.04s\n",
      "500:\tlearn: 0.3402961\ttotal: 5s\tremaining: 4.98s\n",
      "600:\tlearn: 0.2957653\ttotal: 5.98s\tremaining: 3.97s\n",
      "700:\tlearn: 0.2613120\ttotal: 6.98s\tremaining: 2.98s\n",
      "800:\tlearn: 0.2317229\ttotal: 8s\tremaining: 1.99s\n",
      "900:\tlearn: 0.2071446\ttotal: 9.03s\tremaining: 992ms\n",
      "999:\tlearn: 0.1873429\ttotal: 10s\tremaining: 0us\n"
     ]
    }
   ],
   "source": [
    "from sklearn.model_selection import StratifiedKFold\n",
    "\n",
    "models = []\n",
    "for x in range(5):\n",
    "    model = catboost.CatBoostClassifier(\n",
    "        random_seed=x,\n",
    "        learning_rate=0.03\n",
    "    )\n",
    "    model.fit(all_features, all_target, verbose=100)\n",
    "    models.append(model)\n",
    "    \n",
    "    \n",
    "with open('models_month_clas.pkl', 'wb') as f:\n",
    "    pickle.dump(models, f)"
   ]
  },
  {
   "cell_type": "code",
   "execution_count": null,
   "metadata": {},
   "outputs": [],
   "source": []
  }
 ],
 "metadata": {
  "kernelspec": {
   "display_name": "Python 3.8.12 ('venv': venv)",
   "language": "python",
   "name": "python3"
  },
  "language_info": {
   "codemirror_mode": {
    "name": "ipython",
    "version": 3
   },
   "file_extension": ".py",
   "mimetype": "text/x-python",
   "name": "python",
   "nbconvert_exporter": "python",
   "pygments_lexer": "ipython3",
   "version": "3.8.12"
  },
  "orig_nbformat": 4,
  "vscode": {
   "interpreter": {
    "hash": "970282172249c2ee2df02559c87faedc906fc3cc2621411cb357a6dd259ce6a7"
   }
  }
 },
 "nbformat": 4,
 "nbformat_minor": 2
}
