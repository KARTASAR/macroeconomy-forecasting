{
 "cells": [
  {
   "cell_type": "code",
   "execution_count": 1,
   "metadata": {},
   "outputs": [],
   "source": [
    "import pandas as pd\n",
    "import matplotlib.pyplot as plt\n",
    "import catboost\n",
    "import numpy as np\n",
    "from sklearn.model_selection import train_test_split\n",
    "from sklearn.preprocessing import MinMaxScaler\n",
    "from sklearn.linear_model import LinearRegression, LogisticRegression\n",
    "from sklearn import metrics\n",
    "import pickle\n",
    "\n",
    "pd.options.display.max_columns = 100"
   ]
  },
  {
   "cell_type": "code",
   "execution_count": 2,
   "metadata": {},
   "outputs": [],
   "source": [
    "train_month_df = pd.read_excel('data/train.xlsx', sheet_name='Monthly').drop(0)\n",
    "train_quart_df = pd.read_excel('data/train.xlsx', sheet_name='Quarterly').drop(0)"
   ]
  },
  {
   "cell_type": "code",
   "execution_count": 3,
   "metadata": {},
   "outputs": [],
   "source": [
    "train_month_df['month'] = [int(x[-2:]) for x in train_month_df['Unnamed: 0'].tolist()]\n",
    "train_month_df['year'] = [int(x[:4]) for x in train_month_df['Unnamed: 0'].tolist()]\n",
    "\n",
    "train_quart_df['month'] = [int(x[-2:]) for x in train_quart_df['Unnamed: 0'].tolist()]\n",
    "train_quart_df['year'] = [int(x[:4]) for x in train_quart_df['Unnamed: 0'].tolist()]\n",
    "\n",
    "train_month_df['year'] -= train_month_df['year'].min()\n",
    "train_quart_df['year'] -= train_quart_df['year'].min()\n",
    "\n",
    "train_month_df['month_num'] = train_month_df['month'] + train_month_df['year'] * 12\n",
    "train_quart_df['month_num'] = train_quart_df['month'] + train_quart_df['year'] * 12\n",
    "\n",
    "train_month_df.drop('Unnamed: 0', axis=1, inplace=True)\n",
    "train_quart_df.drop('Unnamed: 0', axis=1, inplace=True)"
   ]
  },
  {
   "cell_type": "code",
   "execution_count": 4,
   "metadata": {},
   "outputs": [],
   "source": [
    "from utils import classes_quart"
   ]
  },
  {
   "cell_type": "code",
   "execution_count": 5,
   "metadata": {},
   "outputs": [],
   "source": [
    "for cl in classes_quart:\n",
    "    for x in cl:\n",
    "        train_quart_df[x] = (train_quart_df[x].values - np.mean(train_quart_df[x])) / np.std(train_quart_df[x])"
   ]
  },
  {
   "cell_type": "code",
   "execution_count": 6,
   "metadata": {},
   "outputs": [],
   "source": [
    "from utils import make_features_quart_clas\n",
    "\n",
    "def get_features(values):\n",
    "    values = np.array(values)\n",
    "    \n",
    "    features, target = [], []\n",
    "\n",
    "    for i in range(len(values)//2, len(values)):\n",
    "        features.append(make_features_quart_clas(values[:i]))\n",
    "        target.append(values[i])\n",
    "\n",
    "    return features, target"
   ]
  },
  {
   "cell_type": "code",
   "execution_count": 7,
   "metadata": {},
   "outputs": [],
   "source": [
    "all_features, all_target = [], []\n",
    "\n",
    "for i in range(len(classes_quart)):\n",
    "    for col in classes_quart[i]:\n",
    "        a = train_quart_df[col].dropna().tolist()\n",
    "        \n",
    "\n",
    "        features, target = get_features(a)\n",
    "        all_features.append(features)\n",
    "        all_target.append([i for z in features])\n",
    "    \n",
    "all_features = np.concatenate(all_features, axis=0)\n",
    "all_target = np.concatenate(all_target, axis=0)"
   ]
  },
  {
   "cell_type": "code",
   "execution_count": 8,
   "metadata": {},
   "outputs": [
    {
     "name": "stdout",
     "output_type": "stream",
     "text": [
      "0:\tlearn: 1.3464617\ttotal: 74.3ms\tremaining: 1m 14s\n",
      "100:\tlearn: 0.3421589\ttotal: 900ms\tremaining: 8.01s\n",
      "200:\tlearn: 0.2004246\ttotal: 1.76s\tremaining: 6.98s\n",
      "300:\tlearn: 0.1344945\ttotal: 2.54s\tremaining: 5.91s\n",
      "400:\tlearn: 0.0923593\ttotal: 3.35s\tremaining: 5s\n",
      "500:\tlearn: 0.0688321\ttotal: 4.15s\tremaining: 4.14s\n",
      "600:\tlearn: 0.0527362\ttotal: 4.91s\tremaining: 3.26s\n",
      "700:\tlearn: 0.0424668\ttotal: 5.74s\tremaining: 2.45s\n",
      "800:\tlearn: 0.0352862\ttotal: 6.54s\tremaining: 1.63s\n",
      "900:\tlearn: 0.0296963\ttotal: 7.37s\tremaining: 809ms\n",
      "999:\tlearn: 0.0255612\ttotal: 8.18s\tremaining: 0us\n",
      "0:\tlearn: 1.3408046\ttotal: 16.4ms\tremaining: 16.4s\n",
      "100:\tlearn: 0.3331336\ttotal: 850ms\tremaining: 7.57s\n",
      "200:\tlearn: 0.1979069\ttotal: 1.7s\tremaining: 6.75s\n",
      "300:\tlearn: 0.1285711\ttotal: 2.53s\tremaining: 5.87s\n",
      "400:\tlearn: 0.0899365\ttotal: 3.47s\tremaining: 5.19s\n",
      "500:\tlearn: 0.0662049\ttotal: 4.4s\tremaining: 4.38s\n",
      "600:\tlearn: 0.0514297\ttotal: 5.18s\tremaining: 3.44s\n",
      "700:\tlearn: 0.0412792\ttotal: 5.99s\tremaining: 2.55s\n",
      "800:\tlearn: 0.0340543\ttotal: 6.83s\tremaining: 1.7s\n",
      "900:\tlearn: 0.0287370\ttotal: 7.66s\tremaining: 841ms\n",
      "999:\tlearn: 0.0249072\ttotal: 8.51s\tremaining: 0us\n",
      "0:\tlearn: 1.3461304\ttotal: 17.3ms\tremaining: 17.2s\n",
      "100:\tlearn: 0.3373760\ttotal: 877ms\tremaining: 7.8s\n",
      "200:\tlearn: 0.1966720\ttotal: 1.67s\tremaining: 6.64s\n",
      "300:\tlearn: 0.1313937\ttotal: 2.5s\tremaining: 5.8s\n",
      "400:\tlearn: 0.0899941\ttotal: 3.32s\tremaining: 4.96s\n",
      "500:\tlearn: 0.0650785\ttotal: 4.12s\tremaining: 4.1s\n",
      "600:\tlearn: 0.0512044\ttotal: 4.94s\tremaining: 3.28s\n",
      "700:\tlearn: 0.0410221\ttotal: 5.75s\tremaining: 2.45s\n",
      "800:\tlearn: 0.0338259\ttotal: 6.55s\tremaining: 1.63s\n",
      "900:\tlearn: 0.0284513\ttotal: 7.35s\tremaining: 808ms\n",
      "999:\tlearn: 0.0243522\ttotal: 8.22s\tremaining: 0us\n",
      "0:\tlearn: 1.3447661\ttotal: 16.9ms\tremaining: 16.9s\n",
      "100:\tlearn: 0.3376111\ttotal: 902ms\tremaining: 8.03s\n",
      "200:\tlearn: 0.1989726\ttotal: 1.76s\tremaining: 6.99s\n",
      "300:\tlearn: 0.1300148\ttotal: 2.56s\tremaining: 5.94s\n",
      "400:\tlearn: 0.0895676\ttotal: 3.37s\tremaining: 5.04s\n",
      "500:\tlearn: 0.0662836\ttotal: 4.24s\tremaining: 4.22s\n",
      "600:\tlearn: 0.0511193\ttotal: 5.1s\tremaining: 3.38s\n",
      "700:\tlearn: 0.0408758\ttotal: 5.93s\tremaining: 2.53s\n",
      "800:\tlearn: 0.0338383\ttotal: 6.79s\tremaining: 1.69s\n",
      "900:\tlearn: 0.0284941\ttotal: 8s\tremaining: 879ms\n",
      "999:\tlearn: 0.0246944\ttotal: 8.97s\tremaining: 0us\n",
      "0:\tlearn: 1.3393696\ttotal: 19.8ms\tremaining: 19.8s\n",
      "100:\tlearn: 0.3360460\ttotal: 898ms\tremaining: 7.99s\n",
      "200:\tlearn: 0.1990684\ttotal: 1.69s\tremaining: 6.74s\n",
      "300:\tlearn: 0.1341201\ttotal: 2.49s\tremaining: 5.79s\n",
      "400:\tlearn: 0.0921836\ttotal: 3.31s\tremaining: 4.95s\n",
      "500:\tlearn: 0.0671471\ttotal: 4.15s\tremaining: 4.14s\n",
      "600:\tlearn: 0.0526020\ttotal: 4.99s\tremaining: 3.31s\n",
      "700:\tlearn: 0.0417186\ttotal: 5.86s\tremaining: 2.5s\n",
      "800:\tlearn: 0.0344063\ttotal: 6.66s\tremaining: 1.65s\n",
      "900:\tlearn: 0.0290223\ttotal: 7.54s\tremaining: 829ms\n",
      "999:\tlearn: 0.0248404\ttotal: 8.38s\tremaining: 0us\n"
     ]
    }
   ],
   "source": [
    "from sklearn.model_selection import StratifiedKFold\n",
    "\n",
    "models = []\n",
    "for x in range(5):\n",
    "    \n",
    "    model = catboost.CatBoostClassifier(\n",
    "        random_seed=x,\n",
    "        learning_rate=0.03\n",
    "    )\n",
    "    model.fit(all_features, all_target, verbose=100)\n",
    "    \n",
    "    models.append(model)\n",
    "    \n",
    "with open('models_quart_clas.pkl', 'wb') as f:\n",
    "    pickle.dump(models, f)"
   ]
  },
  {
   "cell_type": "code",
   "execution_count": null,
   "metadata": {},
   "outputs": [],
   "source": []
  }
 ],
 "metadata": {
  "kernelspec": {
   "display_name": "Python 3.8.12 ('venv': venv)",
   "language": "python",
   "name": "python3"
  },
  "language_info": {
   "codemirror_mode": {
    "name": "ipython",
    "version": 3
   },
   "file_extension": ".py",
   "mimetype": "text/x-python",
   "name": "python",
   "nbconvert_exporter": "python",
   "pygments_lexer": "ipython3",
   "version": "3.8.12"
  },
  "orig_nbformat": 4,
  "vscode": {
   "interpreter": {
    "hash": "970282172249c2ee2df02559c87faedc906fc3cc2621411cb357a6dd259ce6a7"
   }
  }
 },
 "nbformat": 4,
 "nbformat_minor": 2
}
