{
 "cells": [
  {
   "cell_type": "code",
   "execution_count": 6,
   "metadata": {},
   "outputs": [],
   "source": [
    "import pandas as pd\n",
    "import matplotlib.pyplot as plt\n",
    "import catboost\n",
    "import numpy as np\n",
    "from sklearn.model_selection import train_test_split\n",
    "from sklearn.preprocessing import MinMaxScaler\n",
    "from sklearn.linear_model import LinearRegression, LogisticRegression\n",
    "from sklearn import metrics\n",
    "from sklearn.model_selection import KFold\n",
    "import pickle\n",
    "\n",
    "pd.options.display.max_columns = 100"
   ]
  },
  {
   "cell_type": "code",
   "execution_count": 7,
   "metadata": {},
   "outputs": [],
   "source": [
    "train_month_df = pd.read_excel('data/train.xlsx', sheet_name='Monthly').drop(0)\n",
    "train_quart_df = pd.read_excel('data/train.xlsx', sheet_name='Quarterly').drop(0)"
   ]
  },
  {
   "cell_type": "code",
   "execution_count": 8,
   "metadata": {},
   "outputs": [],
   "source": [
    "train_month_df['month'] = [int(x[-2:]) for x in train_month_df['Unnamed: 0'].tolist()]\n",
    "train_month_df['year'] = [int(x[:4]) for x in train_month_df['Unnamed: 0'].tolist()]\n",
    "\n",
    "train_quart_df['month'] = [int(x[-2:]) for x in train_quart_df['Unnamed: 0'].tolist()]\n",
    "train_quart_df['year'] = [int(x[:4]) for x in train_quart_df['Unnamed: 0'].tolist()]\n",
    "\n",
    "train_month_df['year'] -= train_month_df['year'].min()\n",
    "train_quart_df['year'] -= train_quart_df['year'].min()\n",
    "\n",
    "train_month_df['month_num'] = train_month_df['month'] + train_month_df['year'] * 12\n",
    "train_quart_df['month_num'] = train_quart_df['month'] + train_quart_df['year'] * 12\n",
    "\n",
    "train_month_df.drop('Unnamed: 0', axis=1, inplace=True)\n",
    "train_quart_df.drop('Unnamed: 0', axis=1, inplace=True)"
   ]
  },
  {
   "cell_type": "code",
   "execution_count": 9,
   "metadata": {},
   "outputs": [],
   "source": [
    "from utils import classes_quart\n",
    "\n",
    "for cl in classes_quart:\n",
    "    for x in cl:\n",
    "        train_quart_df[x] = (train_quart_df[x].values - np.mean(train_quart_df[x])) / np.std(train_quart_df[x])"
   ]
  },
  {
   "cell_type": "code",
   "execution_count": 10,
   "metadata": {},
   "outputs": [],
   "source": [
    "from utils import make_features_quart_reg\n",
    "\n",
    "def get_features(values):\n",
    "    values = np.array(values)\n",
    "\n",
    "    features, target = [], []\n",
    "\n",
    "    for i in range(len(values)//2, len(values)):\n",
    "        features.append(make_features_quart_reg(values[:i]))\n",
    "        target.append(values[i]-values[i-1])\n",
    "\n",
    "    return features, target"
   ]
  },
  {
   "cell_type": "code",
   "execution_count": 11,
   "metadata": {},
   "outputs": [],
   "source": [
    "models = []\n",
    "\n",
    "for id in range(len(classes_quart)):\n",
    "\n",
    "    all_features, all_target = [], []\n",
    "    \n",
    "    for col in classes_quart[id]:\n",
    "        a = train_quart_df[col].dropna().tolist()\n",
    "\n",
    "\n",
    "        features, target = get_features(a)\n",
    "        all_features.append(features)\n",
    "        all_target.append(target)\n",
    "    \n",
    "    all_features = np.concatenate(all_features, axis=0)\n",
    "    all_target = np.concatenate(all_target, axis=0)\n",
    "    \n",
    "    \n",
    "    cur_models = []\n",
    "    for x in range(5):\n",
    "        \n",
    "        model = catboost.CatBoostRegressor(\n",
    "            random_seed=x,\n",
    "            learning_rate=0.03\n",
    "        )\n",
    "        model.fit(all_features, all_target, verbose=False)\n",
    "        cur_models.append(model)\n",
    "        \n",
    "        \n",
    "\n",
    "    models.append(cur_models)\n",
    "\n",
    "with open('models_quart_reg.pkl', 'wb') as f:\n",
    "    pickle.dump(models, f)"
   ]
  },
  {
   "cell_type": "code",
   "execution_count": null,
   "metadata": {},
   "outputs": [],
   "source": []
  }
 ],
 "metadata": {
  "kernelspec": {
   "display_name": "Python 3.8.12 ('venv': venv)",
   "language": "python",
   "name": "python3"
  },
  "language_info": {
   "codemirror_mode": {
    "name": "ipython",
    "version": 3
   },
   "file_extension": ".py",
   "mimetype": "text/x-python",
   "name": "python",
   "nbconvert_exporter": "python",
   "pygments_lexer": "ipython3",
   "version": "3.8.12"
  },
  "orig_nbformat": 4,
  "vscode": {
   "interpreter": {
    "hash": "970282172249c2ee2df02559c87faedc906fc3cc2621411cb357a6dd259ce6a7"
   }
  }
 },
 "nbformat": 4,
 "nbformat_minor": 2
}
